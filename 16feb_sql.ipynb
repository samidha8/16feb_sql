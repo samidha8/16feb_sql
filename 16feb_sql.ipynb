{
 "cells": [
  {
   "cell_type": "code",
   "execution_count": null,
   "id": "161f5dc9-65e6-47eb-a434-b44709c55de2",
   "metadata": {},
   "outputs": [],
   "source": [
    "#Q1. What is a database? Differentiate between SQL and NoSQL databases."
   ]
  },
  {
   "cell_type": "code",
   "execution_count": 2,
   "id": "6277f031-8a7e-43e3-8f9a-1f7257af66c2",
   "metadata": {},
   "outputs": [],
   "source": [
    "#What is database?"
   ]
  },
  {
   "cell_type": "code",
   "execution_count": 3,
   "id": "1b42727b-4160-4360-bfaa-1fb08b70acdf",
   "metadata": {},
   "outputs": [
    {
     "data": {
      "text/plain": [
       "'Database is an organized collection of structured information, or data, typically stored electronically in a computer system. A database is usually controlled by a database management system (DBMS).'"
      ]
     },
     "execution_count": 3,
     "metadata": {},
     "output_type": "execute_result"
    }
   ],
   "source": [
    "\n",
    "\"\"\"Database is an organized collection of structured information, or data, typically stored electronically in a computer system. A database is usually controlled by a database management system (DBMS).\"\"\""
   ]
  },
  {
   "cell_type": "code",
   "execution_count": 4,
   "id": "8c4baaef-54c0-47aa-b357-412d87b394ac",
   "metadata": {},
   "outputs": [],
   "source": [
    "#Differentiate between SQL and NoSQL databases.\n",
    "#SQL \n",
    "# relational database management system \n",
    "# these database have fixed structure format or static/ predefined schema \n",
    "# database are not suited for hierarchical data storage\n",
    "# database best suited for complex queries \n",
    "# vertical scalable \n",
    "# follow ACID property\n",
    "\n",
    "#NOSQL\n",
    "# non relational / distributed database management system \n",
    "# these database have dynamic data. Different different database have different different format to store data. \n",
    "# database are best suited for hierarchical data storage\n",
    "# database are not so good for complex queries \n",
    "# horizontally scalable \n",
    "# follow Cap (consistency, availability,partition tolerance ) property"
   ]
  },
  {
   "cell_type": "code",
   "execution_count": 5,
   "id": "bb2391eb-b1ce-42eb-a13f-b7ce3d5fac97",
   "metadata": {},
   "outputs": [],
   "source": [
    "#Q2. What is DDL? Explain why CREATE, DROP, ALTER, and TRUNCATE are used with an example."
   ]
  },
  {
   "cell_type": "code",
   "execution_count": 7,
   "id": "514b59d4-ce23-4659-b142-e2d6675d1316",
   "metadata": {},
   "outputs": [
    {
     "data": {
      "text/plain": [
       "'Data Definition Language(DDL) is a subset of SQL and a part of DBMS(Database Management System). DDL consist of Commands to commands like CREATE, ALTER, TRUNCATE and DROP. These commands are used to create or modify the tables in SQL.'"
      ]
     },
     "execution_count": 7,
     "metadata": {},
     "output_type": "execute_result"
    }
   ],
   "source": [
    "\"\"\"Data Definition Language(DDL) is a subset of SQL and a part of DBMS(Database Management System). DDL consist of Commands to commands like CREATE, ALTER, TRUNCATE and DROP. These commands are used to create or modify the tables in SQL.\"\"\""
   ]
  },
  {
   "cell_type": "code",
   "execution_count": 2,
   "id": "84149a35-4f84-4878-a715-3d7157d47cf4",
   "metadata": {},
   "outputs": [],
   "source": [
    "#The TRUNCATE TABLE command deletes the data inside a table, but not the table itsel\n",
    "# DROP DATABASE command is used is to delete an existing SQL database.\n",
    "#The CREATE command is used to create indexes,tables,database  \n",
    "#SQL Server Agent fires an alert when any error of the specific severity occurs.\n",
    "\n",
    "#CREATE TABLE Persons (\n",
    "    #PersonID int,\n",
    "    #LastName varchar(255),\n",
    "    #FirstName varchar(255),\n",
    "    #Address varchar(255),\n",
    "    #City varchar(255) \n",
    "#);\n",
    "\n",
    "#DROP DATABASE DataBaseName;\n",
    "#DROP TABLE;\n",
    "\n",
    "#ALERT TABLE TableName\n",
    "#Add ColumnName Datatype;\n",
    "#ALERT TABLE student\n",
    "#CHANGE(phone_no)(contact_no)\n",
    "\n",
    "#TRUNCATE TABLE table_name;\n",
    "#TRUNCATE table student;\n"
   ]
  },
  {
   "cell_type": "code",
   "execution_count": null,
   "id": "9d15dc1e-7326-42e3-b4a5-20ba565abe27",
   "metadata": {},
   "outputs": [],
   "source": []
  },
  {
   "cell_type": "code",
   "execution_count": null,
   "id": "c219d07c-2063-4ad2-8a5c-0bf2268db576",
   "metadata": {},
   "outputs": [],
   "source": [
    "#Q3. What is DML? Explain INSERT, UPDATE, and DELETE with an example."
   ]
  },
  {
   "cell_type": "code",
   "execution_count": 9,
   "id": "c9d24d74-a5b2-4619-97ae-d0167e53d621",
   "metadata": {},
   "outputs": [
    {
     "data": {
      "text/plain": [
       "'A DML (data manipulation language) refers to a computer programming language that allows you to add (insert), delete (delete), and alter (update) data in a database.'"
      ]
     },
     "execution_count": 9,
     "metadata": {},
     "output_type": "execute_result"
    }
   ],
   "source": [
    "\"\"\"A DML (data manipulation language) refers to a computer programming language that allows you to add (insert), delete (delete), and alter (update) data in a database.\"\"\""
   ]
  },
  {
   "cell_type": "code",
   "execution_count": 10,
   "id": "5f56f397-e994-489b-bed8-f54ffb7947fb",
   "metadata": {},
   "outputs": [
    {
     "data": {
      "text/plain": [
       "'DELETE is a DML SQL command that enables users to delete one or more existing records in database tables. \\nHowever,this command of Data Manipulation Language does not delete the stored data permanently from the database.'"
      ]
     },
     "execution_count": 10,
     "metadata": {},
     "output_type": "execute_result"
    }
   ],
   "source": [
    "\"\"\"DELETE is a DML SQL command that enables users to delete one or more existing records in database tables. \n",
    "However,this command of Data Manipulation Language does not delete the stored data permanently from the database.\"\"\"\n",
    "#DALETE FROM table_name[WHERE condition];\n",
    "#DELETE FROM Employee\n",
    "#WHERE FirstName= 'picard';"
   ]
  },
  {
   "cell_type": "code",
   "execution_count": 12,
   "id": "deccebb5-521c-406b-b038-144af9dd0ab7",
   "metadata": {},
   "outputs": [
    {
     "data": {
      "text/plain": [
       "'UPDATE Command-This DML SQL command is used to update or modify the value of a column in the table.'"
      ]
     },
     "execution_count": 12,
     "metadata": {},
     "output_type": "execute_result"
    }
   ],
   "source": [
    "\"\"\"UPDATE Command-This DML SQL command is used to update or modify the value of a column in the table.\"\"\"\n",
    "#UPDATEB table_name SET[columnname1= value],...column_nameN= valeuN [WHERE CONDITION]\n",
    "#UPDATE Employee\n",
    "#SET FirstName= 'picard', LastName= 'Emirates'\n",
    "#WHERE EmployeeID=3"
   ]
  },
  {
   "cell_type": "code",
   "execution_count": 14,
   "id": "b4aa9d4d-5eff-46cc-b120-9b2872f3db77",
   "metadata": {},
   "outputs": [
    {
     "data": {
      "text/plain": [
       "'INSERT is another major DML command in the SQL, which allows users to insert data into database tables'"
      ]
     },
     "execution_count": 14,
     "metadata": {},
     "output_type": "execute_result"
    }
   ],
   "source": [
    "\"\"\"INSERT is another major DML command in the SQL, which allows users to insert data into database tables\"\"\"\n",
    "#INSERT INTO TABLENAME(column1,column2...columnN)Values(value1,value2,...valueN)\n",
    "\n",
    "#INSERT INTO Employee(Emp_id, Emp_Name) VALUES(09, \"picard\")"
   ]
  },
  {
   "cell_type": "code",
   "execution_count": null,
   "id": "a2559dae-5fa5-432a-8fa5-14459d4476b8",
   "metadata": {},
   "outputs": [],
   "source": []
  },
  {
   "cell_type": "code",
   "execution_count": 15,
   "id": "0f238c65-d31a-42f9-98ff-ca40da773d51",
   "metadata": {},
   "outputs": [],
   "source": [
    "#Q4. What is DQL? Explain SELECT with an example."
   ]
  },
  {
   "cell_type": "code",
   "execution_count": 17,
   "id": "2e01d818-33f7-4b6d-8296-50f44cc8fb5f",
   "metadata": {},
   "outputs": [
    {
     "data": {
      "text/plain": [
       "'Data Query Language- DQL is one of the finest SQL commands that is used to fetch the data from the database. The goal of DQL commands is to obtain the schema relationship based on the request that is passed to it. While often referred to as part of DML, the SQL SELECT statement is strictly an example of DQL.DQL uses only one command:\\nSELECT: It is used to retrieve data from the database.'"
      ]
     },
     "execution_count": 17,
     "metadata": {},
     "output_type": "execute_result"
    }
   ],
   "source": [
    "\"\"\"Data Query Language- DQL is one of the finest SQL commands that is used to fetch the data from the database. The goal of DQL commands is to obtain the schema relationship based on the request that is passed to it. While often referred to as part of DML, the SQL SELECT statement is strictly an example of DQL.DQL uses only one command:\n",
    "SELECT: It is used to retrieve data from the database.\"\"\"\n",
    "#SELECT expression FROM TABLE WHERE Conditions;\n",
    "#\"select * from test2.test.py\""
   ]
  },
  {
   "cell_type": "code",
   "execution_count": null,
   "id": "c2b69500-ea77-442f-a7d7-d756f5120d3b",
   "metadata": {},
   "outputs": [],
   "source": []
  },
  {
   "cell_type": "code",
   "execution_count": null,
   "id": "d9b91c68-8c3a-44b0-b8d3-39f33d5c17e2",
   "metadata": {},
   "outputs": [],
   "source": [
    "#Q5. Explain Primary Key and Foreign Key."
   ]
  },
  {
   "cell_type": "code",
   "execution_count": 18,
   "id": "4049e34f-f8fb-4176-a14d-988a02c86893",
   "metadata": {},
   "outputs": [
    {
     "data": {
      "text/plain": [
       "'A primary key generally focuses on the uniqueness of the table. It assures the value in the specific column is unique. A foreign key is generally used to build a relationship between the two tables. Table allows only one primary key.'"
      ]
     },
     "execution_count": 18,
     "metadata": {},
     "output_type": "execute_result"
    }
   ],
   "source": [
    "\"\"\"A primary key generally focuses on the uniqueness of the table. It assures the value in the specific column is unique. A foreign key is generally used to build a relationship between the two tables. Table allows only one primary key.\"\"\""
   ]
  },
  {
   "cell_type": "code",
   "execution_count": 19,
   "id": "f966aa5f-87b1-4b69-ad70-c2d91739a595",
   "metadata": {},
   "outputs": [
    {
     "data": {
      "text/plain": [
       "'A primary key generally focuses on the uniqueness of the table. It is a column or a set of columns that uniquely distinguishes every row in the database. It means it should not have any duplicate value. Also, it doesn’t contain a NULL value.'"
      ]
     },
     "execution_count": 19,
     "metadata": {},
     "output_type": "execute_result"
    }
   ],
   "source": [
    "\"\"\"A primary key generally focuses on the uniqueness of the table. It is a column or a set of columns that uniquely distinguishes every row in the database. It means it should not have any duplicate value. Also, it doesn’t contain a NULL value.\"\"\""
   ]
  },
  {
   "cell_type": "code",
   "execution_count": 20,
   "id": "73da0dab-c761-4b1e-bc81-aee46bc28dbb",
   "metadata": {},
   "outputs": [
    {
     "data": {
      "text/plain": [
       "'A foreign key is generally used to build a relationship between the two tables. The major purpose of the foreign key is to sustain data integrity between two separate instances of an entity.'"
      ]
     },
     "execution_count": 20,
     "metadata": {},
     "output_type": "execute_result"
    }
   ],
   "source": [
    "\"\"\"A foreign key is generally used to build a relationship between the two tables. The major purpose of the foreign key is to sustain data integrity between two separate instances of an entity.\"\"\""
   ]
  },
  {
   "cell_type": "code",
   "execution_count": 24,
   "id": "849b5c7d-119c-4972-8aba-4df907608c14",
   "metadata": {},
   "outputs": [],
   "source": [
    "#Q6. Write a python code to connect MySQL to python. Explain the cursor() and execute() method.\n",
    "#import mysql.connector\n",
    "#mydb = mysl.connector.connect(\n",
    "    #host= 'xyz'\n",
    "    #user= 'abc'\n",
    "    #password = 'password'\n",
    "#)    \n",
    "#print(mydb)\n",
    "#mycursor = mydb.cursor()\n",
    "#mycursor.execute(\"\") \n",
    "    "
   ]
  },
  {
   "cell_type": "code",
   "execution_count": 21,
   "id": "c0395b85-75d2-46de-bd19-735c5f69aeb1",
   "metadata": {},
   "outputs": [
    {
     "data": {
      "text/plain": [
       "'To create a connection between the MySQL database and Python, the connect() method of mysql.connector module is used.'"
      ]
     },
     "execution_count": 21,
     "metadata": {},
     "output_type": "execute_result"
    }
   ],
   "source": [
    "\"\"\"To create a connection between the MySQL database and Python, the connect() method of mysql.connector module is used.\"\"\" "
   ]
  },
  {
   "cell_type": "code",
   "execution_count": 27,
   "id": "12a116c8-308c-4eb1-ab79-267d13b911b4",
   "metadata": {},
   "outputs": [
    {
     "data": {
      "text/plain": [
       "'\"A cursor is an object which helps to execute the query and fetch the records from the database. The cursor plays a very important role in executing the query. This article will learn some deep information about the execute methods and how to use those methods in python.\\nWe can create the cursor object through the mysql.'"
      ]
     },
     "execution_count": 27,
     "metadata": {},
     "output_type": "execute_result"
    }
   ],
   "source": [
    "\"\"\"\"A cursor is an object which helps to execute the query and fetch the records from the database. The cursor plays a very important role in executing the query. This article will learn some deep information about the execute methods and how to use those methods in python.\n",
    "We can create the cursor object through the mysql.\"\"\""
   ]
  },
  {
   "cell_type": "code",
   "execution_count": 29,
   "id": "70305692-98b1-499e-80ca-23a137dc9fdf",
   "metadata": {},
   "outputs": [
    {
     "data": {
      "text/plain": [
       "'The EXEC command is used to execute a stored procedure, or a SQL string passed to it.'"
      ]
     },
     "execution_count": 29,
     "metadata": {},
     "output_type": "execute_result"
    }
   ],
   "source": [
    "\"\"\"The EXEC command is used to execute a stored procedure, or a SQL string passed to it.\"\"\""
   ]
  },
  {
   "cell_type": "code",
   "execution_count": 37,
   "id": "f056d0f9-9483-4689-9ee9-521c9731cdfb",
   "metadata": {},
   "outputs": [
    {
     "data": {
      "text/plain": [
       "'1.FROM/JOIN: The FROM and/or JOIN clauses are executed first to determine the data of interest.\\n2. WHERE:The WHERE clause is executed to filter out records that do not meet the constrains\\n3. GROUP BY: The GROUP BY clause is executed to group the data based on the values in one or more columns.\\n\\n4. HAVING: The HAVING clause is executed to remove the created grouped records that don’t meet the constraints.\\n\\n5. SELECT: The SELECT clause is executed to derive all desired columns and expressions.\\n\\n6. ORDER BY: The ORDER BY clause is executed to sort the derived values in ascending or descending order.\\n\\n7. LIMIT/OFFSET: Finally, the LIMIT and/or OFFSET clauses are executed to keep or skip a specified number of rows.'"
      ]
     },
     "execution_count": 37,
     "metadata": {},
     "output_type": "execute_result"
    }
   ],
   "source": [
    "\"\"\"1.FROM/JOIN: The FROM and/or JOIN clauses are executed first to determine the data of interest.\n",
    "2. WHERE:The WHERE clause is executed to filter out records that do not meet the constrains\n",
    "3. GROUP BY: The GROUP BY clause is executed to group the data based on the values in one or more columns.\n",
    "\n",
    "4. HAVING: The HAVING clause is executed to remove the created grouped records that don’t meet the constraints.\n",
    "\n",
    "5. SELECT: The SELECT clause is executed to derive all desired columns and expressions.\n",
    "\n",
    "6. ORDER BY: The ORDER BY clause is executed to sort the derived values in ascending or descending order.\n",
    "\n",
    "7. LIMIT/OFFSET: Finally, the LIMIT and/or OFFSET clauses are executed to keep or skip a specified number of rows.\"\"\""
   ]
  },
  {
   "cell_type": "code",
   "execution_count": null,
   "id": "675e471f-7a2c-403d-997a-37bc43afa48d",
   "metadata": {},
   "outputs": [],
   "source": []
  }
 ],
 "metadata": {
  "kernelspec": {
   "display_name": "Python 3 (ipykernel)",
   "language": "python",
   "name": "python3"
  },
  "language_info": {
   "codemirror_mode": {
    "name": "ipython",
    "version": 3
   },
   "file_extension": ".py",
   "mimetype": "text/x-python",
   "name": "python",
   "nbconvert_exporter": "python",
   "pygments_lexer": "ipython3",
   "version": "3.10.8"
  }
 },
 "nbformat": 4,
 "nbformat_minor": 5
}
